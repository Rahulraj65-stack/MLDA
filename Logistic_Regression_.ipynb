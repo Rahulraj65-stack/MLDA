{
  "nbformat": 4,
  "nbformat_minor": 0,
  "metadata": {
    "colab": {
      "provenance": []
    },
    "kernelspec": {
      "name": "python3",
      "display_name": "Python 3"
    },
    "language_info": {
      "name": "python"
    }
  },
  "cells": [
    {
      "cell_type": "code",
      "execution_count": 2,
      "metadata": {
        "colab": {
          "base_uri": "https://localhost:8080/"
        },
        "id": "0EenW9mJk4EE",
        "outputId": "2c6a8a9a-eff4-4e59-d4a4-b3f2d722ea13"
      },
      "outputs": [
        {
          "output_type": "stream",
          "name": "stdout",
          "text": [
            "     Month  #Passengers\n",
            "0  1949-01          112\n",
            "1  1949-02          118\n",
            "2  1949-03          132\n",
            "3  1949-04          129\n",
            "4  1949-05          121\n",
            "   Month_encoded\n",
            "0              0\n",
            "1              1\n",
            "2              2\n",
            "3              3\n",
            "4              4\n",
            "0    112\n",
            "1    118\n",
            "2    132\n",
            "3    129\n",
            "4    121\n",
            "Name: #Passengers, dtype: int64\n",
            "y_test shape: (29,)\n",
            "y_lr_pred shape: (29,)\n",
            "0.0\n"
          ]
        },
        {
          "output_type": "stream",
          "name": "stderr",
          "text": [
            "/usr/local/lib/python3.12/dist-packages/sklearn/linear_model/_logistic.py:465: ConvergenceWarning: lbfgs failed to converge (status=1):\n",
            "STOP: TOTAL NO. OF ITERATIONS REACHED LIMIT.\n",
            "\n",
            "Increase the number of iterations (max_iter) or scale the data as shown in:\n",
            "    https://scikit-learn.org/stable/modules/preprocessing.html\n",
            "Please also refer to the documentation for alternative solver options:\n",
            "    https://scikit-learn.org/stable/modules/linear_model.html#logistic-regression\n",
            "  n_iter_i = _check_optimize_result(\n"
          ]
        }
      ],
      "source": [
        "import pandas as pd\n",
        "from sklearn.preprocessing import LabelEncoder\n",
        "from sklearn.model_selection import train_test_split\n",
        "from sklearn.linear_model import LogisticRegression\n",
        "from sklearn.metrics import accuracy_score\n",
        "import numpy as np\n",
        "\n",
        "data=pd.read_csv(\"AirPassengers.csv\")\n",
        "\n",
        "# Handle missing values (a simple strategy like median imputation)\n",
        "# for col in ['ph', 'Sulfate', 'Trihalomethanes']:\n",
        "#     data[col].fillna(data[col].median(), inplace=True)\n",
        "\n",
        "print(data.head())\n",
        "\n",
        "# Define features (x) and target (y)\n",
        "# Exclude 'Potability' as it is the target variable\n",
        "# x = data.drop('Potability', axis=1)\n",
        "# y = data[\"Potability\"]\n",
        "\n",
        "# Based on the loaded data, define features and target\n",
        "# Assuming '#Passengers' is the target and 'Month' is the feature\n",
        "# For this type of data (time series), a different approach might be more suitable than Logistic Regression.\n",
        "# However, I will proceed with the current model for demonstration purposes.\n",
        "x = data[['Month']] # Using 'Month' as a feature\n",
        "y = data['#Passengers'] # Using '#Passengers' as the target\n",
        "\n",
        "# Convert 'Month' to a numerical representation if needed for Logistic Regression\n",
        "# For simplicity, let's use a LabelEncoder for 'Month'\n",
        "le = LabelEncoder()\n",
        "x['Month_encoded'] = le.fit_transform(x['Month'])\n",
        "x = x.drop('Month', axis=1)\n",
        "\n",
        "\n",
        "print(x.head())\n",
        "print(y.head())\n",
        "\n",
        "x_train,x_test,y_train,y_test=train_test_split(x,y,test_size=0.2,random_state=2)\n",
        "lr = LogisticRegression(max_iter=5000)\n",
        "lr.fit(x_train,y_train)\n",
        "y_lr_pred=lr.predict(x_test)\n",
        "print(\"y_test shape:\", y_test.shape)\n",
        "print(\"y_lr_pred shape:\", y_lr_pred.shape)\n",
        "accuracy_lr=accuracy_score(y_test,y_lr_pred)\n",
        "print(accuracy_lr)"
      ]
    }
  ]
}