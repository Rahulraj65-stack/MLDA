{
  "nbformat": 4,
  "nbformat_minor": 0,
  "metadata": {
    "colab": {
      "provenance": []
    },
    "kernelspec": {
      "name": "python3",
      "display_name": "Python 3"
    },
    "language_info": {
      "name": "python"
    }
  },
  "cells": [
    {
      "cell_type": "code",
      "execution_count": 2,
      "metadata": {
        "colab": {
          "base_uri": "https://localhost:8080/"
        },
        "id": "7iP9BGmahQ2m",
        "outputId": "0697f7fd-98f1-413a-b6e2-325d4f4097ba"
      },
      "outputs": [
        {
          "output_type": "stream",
          "name": "stdout",
          "text": [
            "Column names after cleaning:\n",
            "Index(['Month,#Passengers'], dtype='object')\n"
          ]
        }
      ],
      "source": [
        "import pandas as pd\n",
        "from sklearn.preprocessing import LabelEncoder\n",
        "from sklearn.model_selection import train_test_split\n",
        "from sklearn.tree import DecisionTreeClassifier\n",
        "from sklearn.linear_model import LinearRegression\n",
        "from sklearn.metrics import accuracy_score,mean_squared_error, r2_score\n",
        "\n",
        "# Read the CSV file, using semicolon as a delimiter and skipping the last empty column\n",
        "data = pd.read_csv(\"AirPassengers.csv\", delimiter=';', usecols=lambda x: 'Unnamed' not in x)\n",
        "\n",
        "# Clean up column names by removing leading/trailing spaces\n",
        "data.columns = data.columns.str.strip()\n",
        "\n",
        "print(\"Column names after cleaning:\")\n",
        "print(data.columns)"
      ]
    },
    {
      "cell_type": "code",
      "source": [
        "import pandas as pd\n",
        "from sklearn.preprocessing import LabelEncoder\n",
        "from sklearn.model_selection import train_test_split\n",
        "from sklearn.tree import DecisionTreeClassifier\n",
        "from sklearn.linear_model import LinearRegression\n",
        "from sklearn.metrics import accuracy_score,mean_squared_error, r2_score\n",
        "\n",
        "# Read the CSV file\n",
        "data = pd.read_csv(\"AirPassengers.csv\")\n",
        "\n",
        "# Display the first few rows and information about the data\n",
        "print(data.head())\n",
        "print(data.info())\n",
        "\n",
        "# Define features (x) and target variable (y) based on the AirPassengers.csv dataset\n",
        "# '#Passengers' is the target variable, and 'Month' will be used as a feature after conversion\n",
        "features = ['Month']\n",
        "target = '#Passengers'\n",
        "\n",
        "# Convert 'Month' to a numerical representation (e.g., using ordinal encoding or just month number)\n",
        "# For simplicity, let's extract the month number and year as separate features\n",
        "data['Year'] = pd.to_datetime(data['Month']).dt.year\n",
        "data['Month_Num'] = pd.to_datetime(data['Month']).dt.month\n",
        "\n",
        "features = ['Year', 'Month_Num']\n",
        "target = '#Passengers'\n",
        "\n",
        "\n",
        "x = data[features]\n",
        "y = data[target]\n",
        "\n",
        "# No missing values in this dataset based on data.info(), so skipping dropna\n",
        "\n",
        "# Split the data into training and testing sets\n",
        "# For time series data, a simple train_test_split might not be the best approach.\n",
        "# It's often better to split chronologically. However, for this demonstration,\n",
        "# we'll use train_test_split for consistency with the original code structure.\n",
        "x_train, x_test, y_train, y_test = train_test_split(x, y, test_size=0.2, random_state=2)\n",
        "\n",
        "# Initialize and train the Linear Regression model\n",
        "# This is more appropriate for predicting a continuous value like number of passengers.\n",
        "lrr = LinearRegression()\n",
        "lrr.fit(x_train, y_train)\n",
        "y_lrr_pred = lrr.predict(x_test)\n",
        "\n",
        "mse = mean_squared_error(y_test, y_lrr_pred)\n",
        "r2 = r2_score(y_test, y_lrr_pred)\n",
        "\n",
        "print(\"Linear Regression MSE:\", mse)\n",
        "print(\"Linear Regression R2:\", r2)\n",
        "\n",
        "# The Decision Tree Classifier is not suitable for this regression problem and will be removed.\n",
        "# dt = DecisionTreeClassifier(criterion=\"entropy\", random_state=2)\n",
        "# dt.fit(x_train, y_train)\n",
        "# y_dt_pred = dt.predict(x_test)\n",
        "# accuracy_dt = accuracy_score(y_test, y_dt_pred)\n",
        "# print(\"Decision Tree Accuracy:\", accuracy_dt)"
      ],
      "metadata": {
        "colab": {
          "base_uri": "https://localhost:8080/"
        },
        "id": "duhDQXYRihDZ",
        "outputId": "f945761c-f854-4b5c-afff-ebe8afce486d"
      },
      "execution_count": 4,
      "outputs": [
        {
          "output_type": "stream",
          "name": "stdout",
          "text": [
            "     Month  #Passengers\n",
            "0  1949-01          112\n",
            "1  1949-02          118\n",
            "2  1949-03          132\n",
            "3  1949-04          129\n",
            "4  1949-05          121\n",
            "<class 'pandas.core.frame.DataFrame'>\n",
            "RangeIndex: 144 entries, 0 to 143\n",
            "Data columns (total 2 columns):\n",
            " #   Column       Non-Null Count  Dtype \n",
            "---  ------       --------------  ----- \n",
            " 0   Month        144 non-null    object\n",
            " 1   #Passengers  144 non-null    int64 \n",
            "dtypes: int64(1), object(1)\n",
            "memory usage: 2.4+ KB\n",
            "None\n",
            "Linear Regression MSE: 1931.1179875364012\n",
            "Linear Regression R2: 0.8766636415491506\n"
          ]
        }
      ]
    }
  ]
}